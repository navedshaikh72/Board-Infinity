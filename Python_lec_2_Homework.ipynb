{
  "nbformat": 4,
  "nbformat_minor": 0,
  "metadata": {
    "colab": {
      "name": "Python lec 2 Homework.ipynb",
      "provenance": [],
      "authorship_tag": "ABX9TyMZyMftEDQ+CIlAyc7uXV+2",
      "include_colab_link": true
    },
    "kernelspec": {
      "name": "python3",
      "display_name": "Python 3"
    }
  },
  "cells": [
    {
      "cell_type": "markdown",
      "metadata": {
        "id": "view-in-github",
        "colab_type": "text"
      },
      "source": [
        "<a href=\"https://colab.research.google.com/github/navedshaikh72/Board-Infinity/blob/master/Python_lec_2_Homework.ipynb\" target=\"_parent\"><img src=\"https://colab.research.google.com/assets/colab-badge.svg\" alt=\"Open In Colab\"/></a>"
      ]
    },
    {
      "cell_type": "markdown",
      "metadata": {
        "id": "bBTDi5Qf4jla",
        "colab_type": "text"
      },
      "source": [
        "TASK 1"
      ]
    },
    {
      "cell_type": "code",
      "metadata": {
        "id": "8C2m5ROP5YPu",
        "colab_type": "code",
        "outputId": "c1f7931d-5a19-489b-fe14-6597ac0f7315",
        "colab": {
          "base_uri": "https://localhost:8080/",
          "height": 34
        }
      },
      "source": [
        "age = 25\n",
        "if age > 18:\n",
        "  print('adult')\n",
        "else:\n",
        "  print('Teenager')"
      ],
      "execution_count": 0,
      "outputs": [
        {
          "output_type": "stream",
          "text": [
            "adult\n"
          ],
          "name": "stdout"
        }
      ]
    },
    {
      "cell_type": "code",
      "metadata": {
        "id": "CS-8USTA63-j",
        "colab_type": "code",
        "outputId": "91f41b51-6cc9-423c-f35b-e4fd9ce512b1",
        "colab": {
          "base_uri": "https://localhost:8080/",
          "height": 68
        }
      },
      "source": [
        "print('enter your age')\n",
        "age = int(input())\n",
        "if age > 18:\n",
        "  print('adult')\n",
        "else:\n",
        "  print('Teenager')"
      ],
      "execution_count": 1,
      "outputs": [
        {
          "output_type": "stream",
          "text": [
            "enter your age\n",
            "25\n",
            "adult\n"
          ],
          "name": "stdout"
        }
      ]
    },
    {
      "cell_type": "code",
      "metadata": {
        "id": "wCtj_CGY6_nv",
        "colab_type": "code",
        "colab": {
          "base_uri": "https://localhost:8080/",
          "height": 102
        },
        "outputId": "0a6f476b-e98c-4c22-a0f6-34aeb247102b"
      },
      "source": [
        "print('Enter your income')\n",
        "income = int(input())\n",
        "print('do u have any ongoing_loan')\n",
        "ongoing_loan=str(input())\n",
        "if income > 100000:\n",
        "  if ongoing_loan == 'yes':\n",
        "    print('you are not eligible for loan')\n",
        "  else:\n",
        "       print('you are eligible for loan')\n",
        "else:\n",
        "  print('you are not eligible for loan')\n"
      ],
      "execution_count": 16,
      "outputs": [
        {
          "output_type": "stream",
          "text": [
            "Enter your income\n",
            "1211211\n",
            "do u have any ongoing_loan\n",
            "no\n",
            "you are eligible for loan\n"
          ],
          "name": "stdout"
        }
      ]
    },
    {
      "cell_type": "code",
      "metadata": {
        "id": "V9YExEXyNHZg",
        "colab_type": "code",
        "colab": {
          "base_uri": "https://localhost:8080/",
          "height": 68
        },
        "outputId": "744b6725-a3bb-42ed-e82a-16ced45ec7f8"
      },
      "source": [
        "print('are u a male')\n",
        "male=str(input())\n",
        "if male == 'yes':\n",
        "  print('you are a male')\n",
        "else:\n",
        "  print('u are female')\n"
      ],
      "execution_count": 19,
      "outputs": [
        {
          "output_type": "stream",
          "text": [
            "are u a male\n",
            "yes\n",
            "you are a male\n"
          ],
          "name": "stdout"
        }
      ]
    },
    {
      "cell_type": "markdown",
      "metadata": {
        "id": "xk4ApwLwTZNj",
        "colab_type": "text"
      },
      "source": [
        "TASK 2"
      ]
    },
    {
      "cell_type": "code",
      "metadata": {
        "id": "BP9HXsC9Tbmj",
        "colab_type": "code",
        "colab": {
          "base_uri": "https://localhost:8080/",
          "height": 221
        },
        "outputId": "be893966-55da-4504-844f-d0e955fea547"
      },
      "source": [
        "numbers = [211,5,87,54,21,67,2467,164,45,57,8745,21]\n",
        "for x in numbers:\n",
        "  print(x)"
      ],
      "execution_count": 23,
      "outputs": [
        {
          "output_type": "stream",
          "text": [
            "211\n",
            "5\n",
            "87\n",
            "54\n",
            "21\n",
            "67\n",
            "2467\n",
            "164\n",
            "45\n",
            "57\n",
            "8745\n",
            "21\n"
          ],
          "name": "stdout"
        }
      ]
    },
    {
      "cell_type": "code",
      "metadata": {
        "id": "O_NkMtGnVDQc",
        "colab_type": "code",
        "colab": {
          "base_uri": "https://localhost:8080/",
          "height": 51
        },
        "outputId": "94b6185d-1e02-48cd-859b-29da4757153d"
      },
      "source": [
        "for x in numbers:\n",
        "    if x%2==0:\n",
        "      print(x)"
      ],
      "execution_count": 28,
      "outputs": [
        {
          "output_type": "stream",
          "text": [
            "54\n",
            "164\n"
          ],
          "name": "stdout"
        }
      ]
    },
    {
      "cell_type": "code",
      "metadata": {
        "id": "eUV2Cb69VWdp",
        "colab_type": "code",
        "colab": {
          "base_uri": "https://localhost:8080/",
          "height": 187
        },
        "outputId": "01882335-eb20-4a2a-cc7c-6445e93343b5"
      },
      "source": [
        "for x in numbers:\n",
        "    if x%2!=0:\n",
        "      print(x)"
      ],
      "execution_count": 30,
      "outputs": [
        {
          "output_type": "stream",
          "text": [
            "211\n",
            "5\n",
            "87\n",
            "21\n",
            "67\n",
            "2467\n",
            "45\n",
            "57\n",
            "8745\n",
            "21\n"
          ],
          "name": "stdout"
        }
      ]
    },
    {
      "cell_type": "code",
      "metadata": {
        "id": "EqZgl7aDV44h",
        "colab_type": "code",
        "colab": {
          "base_uri": "https://localhost:8080/",
          "height": 85
        },
        "outputId": "fc44eb1c-245d-4d42-8b9f-40a40e169f6f"
      },
      "source": [
        "myself = {'name':'naved','age':23,'gender':'male','favourite food':'biryani'}\n",
        "for keys in myself:\n",
        "  print(keys)"
      ],
      "execution_count": 33,
      "outputs": [
        {
          "output_type": "stream",
          "text": [
            "name\n",
            "age\n",
            "gender\n",
            "favourite food\n"
          ],
          "name": "stdout"
        }
      ]
    },
    {
      "cell_type": "code",
      "metadata": {
        "id": "JO5UKpYDXvwy",
        "colab_type": "code",
        "colab": {
          "base_uri": "https://localhost:8080/",
          "height": 85
        },
        "outputId": "8130e848-143c-492f-fe3a-3d54e9f35cc9"
      },
      "source": [
        "for values in myself.values():\n",
        "  print(values)"
      ],
      "execution_count": 37,
      "outputs": [
        {
          "output_type": "stream",
          "text": [
            "naved\n",
            "23\n",
            "male\n",
            "biryani\n"
          ],
          "name": "stdout"
        }
      ]
    },
    {
      "cell_type": "markdown",
      "metadata": {
        "id": "KpD0vQTJZ6_k",
        "colab_type": "text"
      },
      "source": [
        "TASK 3"
      ]
    },
    {
      "cell_type": "code",
      "metadata": {
        "id": "dqydtEXZZ_nd",
        "colab_type": "code",
        "colab": {}
      },
      "source": [
        "my_d = {'name':'naved'}\n",
        "def person_name(my_d,name):\n",
        "  my_d['naved'] = name\n",
        "  return  my_d.values()\n",
        "\n"
      ],
      "execution_count": 0,
      "outputs": []
    },
    {
      "cell_type": "code",
      "metadata": {
        "id": "0vP9DTOVbUtK",
        "colab_type": "code",
        "colab": {
          "base_uri": "https://localhost:8080/",
          "height": 34
        },
        "outputId": "e217d584-58f5-4593-d965-f527fa22b1ac"
      },
      "source": [
        "my_d.values()"
      ],
      "execution_count": 45,
      "outputs": [
        {
          "output_type": "execute_result",
          "data": {
            "text/plain": [
              "dict_values(['naved'])"
            ]
          },
          "metadata": {
            "tags": []
          },
          "execution_count": 45
        }
      ]
    },
    {
      "cell_type": "code",
      "metadata": {
        "id": "RNl_R1Y6by5D",
        "colab_type": "code",
        "colab": {}
      },
      "source": [
        "p1 = {'name':'naved','age':23,'gender':'male'}\n",
        "def print_keys(p1):\n",
        "  return p1.keys()"
      ],
      "execution_count": 0,
      "outputs": []
    },
    {
      "cell_type": "code",
      "metadata": {
        "id": "M5TAOrsSctj2",
        "colab_type": "code",
        "colab": {
          "base_uri": "https://localhost:8080/",
          "height": 34
        },
        "outputId": "794f871b-776b-4ed6-8d6a-eb48c7401682"
      },
      "source": [
        "p1.keys()"
      ],
      "execution_count": 47,
      "outputs": [
        {
          "output_type": "execute_result",
          "data": {
            "text/plain": [
              "dict_keys(['name', 'age', 'gender'])"
            ]
          },
          "metadata": {
            "tags": []
          },
          "execution_count": 47
        }
      ]
    },
    {
      "cell_type": "code",
      "metadata": {
        "id": "EcKzhDYAdX2z",
        "colab_type": "code",
        "colab": {}
      },
      "source": [
        "p1 = {'name':'naved','age':23,'gender':'male'}\n",
        "def print_values(p1):\n",
        "  return p1.values()"
      ],
      "execution_count": 0,
      "outputs": []
    },
    {
      "cell_type": "code",
      "metadata": {
        "id": "LJw_d841dmrk",
        "colab_type": "code",
        "colab": {
          "base_uri": "https://localhost:8080/",
          "height": 34
        },
        "outputId": "82a3bd8b-e197-4afc-bf8c-f435fd9fac0b"
      },
      "source": [
        "p1.values()"
      ],
      "execution_count": 53,
      "outputs": [
        {
          "output_type": "execute_result",
          "data": {
            "text/plain": [
              "dict_values(['naved', 23, 'male'])"
            ]
          },
          "metadata": {
            "tags": []
          },
          "execution_count": 53
        }
      ]
    },
    {
      "cell_type": "code",
      "metadata": {
        "id": "TNpdZTQqdpLz",
        "colab_type": "code",
        "colab": {}
      },
      "source": [
        "numbers = [1,2,3,4,5,6,7,8,9,10]\n",
        "def print_odd(numodd):\n",
        "  for x in numbers:\n",
        "    if x%2!=0:\n",
        "      print(x)\n"
      ],
      "execution_count": 0,
      "outputs": []
    },
    {
      "cell_type": "code",
      "metadata": {
        "id": "WCuSCxZdeCe0",
        "colab_type": "code",
        "colab": {
          "base_uri": "https://localhost:8080/",
          "height": 102
        },
        "outputId": "2d680278-538f-4848-8f28-05cb098bf35a"
      },
      "source": [
        "print_odd(x)"
      ],
      "execution_count": 55,
      "outputs": [
        {
          "output_type": "stream",
          "text": [
            "1\n",
            "3\n",
            "5\n",
            "7\n",
            "9\n"
          ],
          "name": "stdout"
        }
      ]
    },
    {
      "cell_type": "code",
      "metadata": {
        "id": "AMbOh7H2eJwM",
        "colab_type": "code",
        "colab": {
          "base_uri": "https://localhost:8080/",
          "height": 102
        },
        "outputId": "2f15353e-6ee0-4022-fc9a-3f56a43e0252"
      },
      "source": [
        "print_odd(numbers)"
      ],
      "execution_count": 56,
      "outputs": [
        {
          "output_type": "stream",
          "text": [
            "1\n",
            "3\n",
            "5\n",
            "7\n",
            "9\n"
          ],
          "name": "stdout"
        }
      ]
    },
    {
      "cell_type": "code",
      "metadata": {
        "id": "8TD04H-ue3YP",
        "colab_type": "code",
        "colab": {}
      },
      "source": [
        "TASK 4"
      ],
      "execution_count": 0,
      "outputs": []
    },
    {
      "cell_type": "code",
      "metadata": {
        "id": "4v_pzdebe6ev",
        "colab_type": "code",
        "colab": {}
      },
      "source": [
        "name = 'naved'\n",
        "percentage = 86.1\n",
        "age = 23\n",
        "male = True"
      ],
      "execution_count": 0,
      "outputs": []
    },
    {
      "cell_type": "code",
      "metadata": {
        "id": "mZ4u959wfI4V",
        "colab_type": "code",
        "colab": {
          "base_uri": "https://localhost:8080/",
          "height": 34
        },
        "outputId": "c2c3e830-1fa4-42a2-857f-32d625669b0f"
      },
      "source": [
        "type(name)"
      ],
      "execution_count": 58,
      "outputs": [
        {
          "output_type": "execute_result",
          "data": {
            "text/plain": [
              "str"
            ]
          },
          "metadata": {
            "tags": []
          },
          "execution_count": 58
        }
      ]
    },
    {
      "cell_type": "code",
      "metadata": {
        "id": "AxOZAddpfO6s",
        "colab_type": "code",
        "colab": {
          "base_uri": "https://localhost:8080/",
          "height": 34
        },
        "outputId": "8dbd0946-aba5-4011-dace-7c7c3fd0cf8e"
      },
      "source": [
        "type(percentage)"
      ],
      "execution_count": 59,
      "outputs": [
        {
          "output_type": "execute_result",
          "data": {
            "text/plain": [
              "float"
            ]
          },
          "metadata": {
            "tags": []
          },
          "execution_count": 59
        }
      ]
    },
    {
      "cell_type": "code",
      "metadata": {
        "id": "YpRwN1OpfUCc",
        "colab_type": "code",
        "colab": {
          "base_uri": "https://localhost:8080/",
          "height": 34
        },
        "outputId": "7635212d-8ded-4698-ab6c-13ccebec8130"
      },
      "source": [
        "type(age)"
      ],
      "execution_count": 60,
      "outputs": [
        {
          "output_type": "execute_result",
          "data": {
            "text/plain": [
              "int"
            ]
          },
          "metadata": {
            "tags": []
          },
          "execution_count": 60
        }
      ]
    },
    {
      "cell_type": "code",
      "metadata": {
        "id": "H2LpoYWHfX1E",
        "colab_type": "code",
        "colab": {
          "base_uri": "https://localhost:8080/",
          "height": 34
        },
        "outputId": "8e464c44-a620-424c-caae-bbbf2fbc0e12"
      },
      "source": [
        "type(male)"
      ],
      "execution_count": 61,
      "outputs": [
        {
          "output_type": "execute_result",
          "data": {
            "text/plain": [
              "bool"
            ]
          },
          "metadata": {
            "tags": []
          },
          "execution_count": 61
        }
      ]
    },
    {
      "cell_type": "code",
      "metadata": {
        "id": "KZASqJHZfcKU",
        "colab_type": "code",
        "colab": {
          "base_uri": "https://localhost:8080/",
          "height": 34
        },
        "outputId": "d74e4917-09e2-47e5-c4dc-9694ccc4c2fd"
      },
      "source": [
        "float(age)"
      ],
      "execution_count": 62,
      "outputs": [
        {
          "output_type": "execute_result",
          "data": {
            "text/plain": [
              "23.0"
            ]
          },
          "metadata": {
            "tags": []
          },
          "execution_count": 62
        }
      ]
    },
    {
      "cell_type": "code",
      "metadata": {
        "id": "EzipI_k6fgHl",
        "colab_type": "code",
        "colab": {
          "base_uri": "https://localhost:8080/",
          "height": 34
        },
        "outputId": "6bccf9c1-4542-44f0-a75b-beffa2c3488f"
      },
      "source": [
        "str(age)"
      ],
      "execution_count": 64,
      "outputs": [
        {
          "output_type": "execute_result",
          "data": {
            "text/plain": [
              "'23'"
            ]
          },
          "metadata": {
            "tags": []
          },
          "execution_count": 64
        }
      ]
    },
    {
      "cell_type": "code",
      "metadata": {
        "id": "08JWqqfzfnEE",
        "colab_type": "code",
        "colab": {
          "base_uri": "https://localhost:8080/",
          "height": 34
        },
        "outputId": "a23741ce-1f59-45a2-91ab-f48bf4cdd5ff"
      },
      "source": [
        "str(male)"
      ],
      "execution_count": 65,
      "outputs": [
        {
          "output_type": "execute_result",
          "data": {
            "text/plain": [
              "'True'"
            ]
          },
          "metadata": {
            "tags": []
          },
          "execution_count": 65
        }
      ]
    },
    {
      "cell_type": "code",
      "metadata": {
        "id": "BlL1EejqgvKv",
        "colab_type": "code",
        "colab": {}
      },
      "source": [
        "TASK 5 "
      ],
      "execution_count": 0,
      "outputs": []
    },
    {
      "cell_type": "code",
      "metadata": {
        "id": "J5yEghmRjvHA",
        "colab_type": "code",
        "colab": {}
      },
      "source": [
        ""
      ],
      "execution_count": 0,
      "outputs": []
    },
    {
      "cell_type": "code",
      "metadata": {
        "id": "uzBMk1FDg46x",
        "colab_type": "code",
        "colab": {}
      },
      "source": [
        "from sklearn.ensemble import RandomForestClassifier"
      ],
      "execution_count": 0,
      "outputs": []
    },
    {
      "cell_type": "code",
      "metadata": {
        "id": "YDI-3w59hSbd",
        "colab_type": "code",
        "colab": {
          "base_uri": "https://localhost:8080/",
          "height": 34
        },
        "outputId": "73ca5881-4361-40e4-e25c-ecdcf8a17723"
      },
      "source": [
        "print('RandomForest.Classifier')"
      ],
      "execution_count": 73,
      "outputs": [
        {
          "output_type": "stream",
          "text": [
            "RandomForest.Classifier\n"
          ],
          "name": "stdout"
        }
      ]
    },
    {
      "cell_type": "code",
      "metadata": {
        "id": "wJHkNA6Cj0te",
        "colab_type": "code",
        "colab": {}
      },
      "source": [
        "from sklearn.naive_bayes import GaussianNB"
      ],
      "execution_count": 0,
      "outputs": []
    },
    {
      "cell_type": "code",
      "metadata": {
        "id": "5ORaQEC6kNpL",
        "colab_type": "code",
        "colab": {}
      },
      "source": [
        "from sklearn.tree import DecisionTreeClassifier"
      ],
      "execution_count": 0,
      "outputs": []
    },
    {
      "cell_type": "code",
      "metadata": {
        "id": "D63VhXbTkVjW",
        "colab_type": "code",
        "colab": {}
      },
      "source": [
        "from sklearn.linear_model import LinearRegression"
      ],
      "execution_count": 0,
      "outputs": []
    },
    {
      "cell_type": "code",
      "metadata": {
        "id": "xmRuMzv3kpQH",
        "colab_type": "code",
        "colab": {}
      },
      "source": [
        "from sklearn.cluster import KMeans "
      ],
      "execution_count": 0,
      "outputs": []
    },
    {
      "cell_type": "code",
      "metadata": {
        "id": "_WvCU5MCk0xG",
        "colab_type": "code",
        "colab": {}
      },
      "source": [
        "from sklearn.model_selection import train_test_split"
      ],
      "execution_count": 0,
      "outputs": []
    },
    {
      "cell_type": "code",
      "metadata": {
        "id": "G4QDZKn-lWSW",
        "colab_type": "code",
        "colab": {}
      },
      "source": [
        "from sklearn.metrics import classification_report"
      ],
      "execution_count": 0,
      "outputs": []
    },
    {
      "cell_type": "code",
      "metadata": {
        "id": "xkAmENfclp5f",
        "colab_type": "code",
        "colab": {}
      },
      "source": [
        "from sklearn.metrics import accuracy_score"
      ],
      "execution_count": 0,
      "outputs": []
    },
    {
      "cell_type": "code",
      "metadata": {
        "id": "f5R68PMJl8n2",
        "colab_type": "code",
        "colab": {
          "base_uri": "https://localhost:8080/",
          "height": 102
        },
        "outputId": "fe993303-691a-4b3c-d254-88b3040eca35"
      },
      "source": [
        "!pip install sklearn"
      ],
      "execution_count": 81,
      "outputs": [
        {
          "output_type": "stream",
          "text": [
            "Requirement already satisfied: sklearn in /usr/local/lib/python3.6/dist-packages (0.0)\n",
            "Requirement already satisfied: scikit-learn in /usr/local/lib/python3.6/dist-packages (from sklearn) (0.22.1)\n",
            "Requirement already satisfied: scipy>=0.17.0 in /usr/local/lib/python3.6/dist-packages (from scikit-learn->sklearn) (1.4.1)\n",
            "Requirement already satisfied: joblib>=0.11 in /usr/local/lib/python3.6/dist-packages (from scikit-learn->sklearn) (0.14.1)\n",
            "Requirement already satisfied: numpy>=1.11.0 in /usr/local/lib/python3.6/dist-packages (from scikit-learn->sklearn) (1.17.5)\n"
          ],
          "name": "stdout"
        }
      ]
    },
    {
      "cell_type": "code",
      "metadata": {
        "id": "JYcqPibcmDBm",
        "colab_type": "code",
        "colab": {}
      },
      "source": [
        ""
      ],
      "execution_count": 0,
      "outputs": []
    }
  ]
}